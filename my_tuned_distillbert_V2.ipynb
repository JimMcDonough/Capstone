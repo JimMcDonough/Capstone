{
 "cells": [
  {
   "cell_type": "code",
   "execution_count": 1,
   "id": "c8ad187a",
   "metadata": {},
   "outputs": [],
   "source": [
    "from datasets import load_dataset, Value, Sequence, Features\n",
    "\n",
    "data_files={\"train\": r\"C:\\Users\\jimmc\\Documents\\UCSD_Bootcamp\\Hugging_Face\\sample_data\\train.json\",\n",
    "           \"validation\": r\"C:\\Users\\jimmc\\Documents\\UCSD_Bootcamp\\Hugging_Face\\sample_data\\val.json\",\n",
    "           \"test\": r\"C:\\Users\\jimmc\\Documents\\UCSD_Bootcamp\\Hugging_Face\\sample_data\\test.json\"}\n",
    "        \n",
    "#data_files={\"train\": r\"C:\\Users\\jimmc\\Documents\\UCSD_Bootcamp\\Hugging_Face\\sample_data\\train.json\"}\n",
    "\n",
    "\n",
    "#dataset = load_dataset(\"json\", data_files=data_files)"
   ]
  },
  {
   "cell_type": "code",
   "execution_count": 2,
   "id": "745b399a",
   "metadata": {},
   "outputs": [
    {
     "name": "stderr",
     "output_type": "stream",
     "text": [
      "Using custom data configuration default-0eba7e56df251bfe\n",
      "Found cached dataset json (C:/Users/jimmc/.cache/huggingface/datasets/json/default-0eba7e56df251bfe/0.0.0/e6070c77f18f01a5ad4551a8b7edfba20b8438b7cad4d94e6ad9378022ce4aab)\n"
     ]
    },
    {
     "data": {
      "application/vnd.jupyter.widget-view+json": {
       "model_id": "ac2f9500e8a84189a5672222a6e34ee6",
       "version_major": 2,
       "version_minor": 0
      },
      "text/plain": [
       "  0%|          | 0/3 [00:00<?, ?it/s]"
      ]
     },
     "metadata": {},
     "output_type": "display_data"
    }
   ],
   "source": [
    "dataset = load_dataset(\"json\", data_files=data_files)"
   ]
  },
  {
   "cell_type": "code",
   "execution_count": 3,
   "id": "5ae8c5a8",
   "metadata": {},
   "outputs": [],
   "source": [
    "from transformers import AutoTokenizer\n",
    "\n",
    "tokenizer = AutoTokenizer.from_pretrained(\"distilbert-base-uncased\")"
   ]
  },
  {
   "cell_type": "code",
   "execution_count": 4,
   "id": "9a89e325",
   "metadata": {},
   "outputs": [],
   "source": [
    "def preprocess_function(examples):\n",
    "    questions = [q.strip() for q in examples[\"question\"]]\n",
    "    inputs = tokenizer(\n",
    "        questions,\n",
    "        examples[\"context\"],\n",
    "        max_length=384,\n",
    "        truncation=\"only_second\",     #only truncates the context nothing else\n",
    "        return_offsets_mapping=True,  # map the start and end positions of the answer to the original context \n",
    "        padding=\"max_length\",\n",
    "    )\n",
    "    \n",
    "    offset_mapping = inputs.pop(\"offset_mapping\")\n",
    "    #print(offset_mapping)\n",
    "    answers = examples[\"answers\"]\n",
    "    start_positions = []\n",
    "    end_positions = []\n",
    "    #print(answers)\n",
    "    for i, offset in enumerate(offset_mapping):\n",
    "        answer = answers[i]\n",
    "        #start_char = answer[\"answer_start\"][0]\n",
    "        #end_char = answer[\"answer_start\"][0] + len(answer[\"text\"][0])  #start char + length giver chars with answer\n",
    "        start_char = answer[0][\"answer_start\"]\n",
    "        end_char = answer[0][\"answer_start\"] + len(answer[0][\"text\"])  \n",
    "        sequence_ids = inputs.sequence_ids(i)  #no clue what this does\n",
    "        #print(answer, end_char, sequence_ids)\n",
    "        # Find the start and end of the context        ; not sure how this section works\n",
    "        idx = 0\n",
    "        while sequence_ids[idx] != 1:\n",
    "            idx += 1\n",
    "        context_start = idx\n",
    "        while sequence_ids[idx] == 1:\n",
    "            idx += 1\n",
    "        context_end = idx - 1\n",
    "    \n",
    "        # If the answer is not fully inside the context, label it (0, 0)\n",
    "        if offset[context_start][0] > end_char or offset[context_end][1] < start_char:\n",
    "            start_positions.append(0)\n",
    "            end_positions.append(0)\n",
    "        else:\n",
    "            # Otherwise it's the start and end token positions\n",
    "            idx = context_start\n",
    "            while idx <= context_end and offset[idx][0] <= start_char:\n",
    "                idx += 1\n",
    "            start_positions.append(idx - 1)\n",
    "            \n",
    "            idx = context_end\n",
    "            while idx >= context_start and offset[idx][1] >= end_char:\n",
    "                idx -= 1\n",
    "            end_positions.append(idx + 1)\n",
    "            \n",
    "    inputs[\"start_positions\"] = start_positions\n",
    "    inputs[\"end_positions\"] = end_positions\n",
    "    return inputs"
   ]
  },
  {
   "cell_type": "code",
   "execution_count": 5,
   "id": "e9e7bf00",
   "metadata": {},
   "outputs": [
    {
     "data": {
      "application/vnd.jupyter.widget-view+json": {
       "model_id": "60e84a5ff00e4cdb8908307b00a396aa",
       "version_major": 2,
       "version_minor": 0
      },
      "text/plain": [
       "  0%|          | 0/13 [00:00<?, ?ba/s]"
      ]
     },
     "metadata": {},
     "output_type": "display_data"
    },
    {
     "name": "stderr",
     "output_type": "stream",
     "text": [
      "Loading cached processed dataset at C:/Users/jimmc/.cache/huggingface/datasets/json/default-0eba7e56df251bfe/0.0.0/e6070c77f18f01a5ad4551a8b7edfba20b8438b7cad4d94e6ad9378022ce4aab\\cache-bdbb438f341af283.arrow\n",
      "Loading cached processed dataset at C:/Users/jimmc/.cache/huggingface/datasets/json/default-0eba7e56df251bfe/0.0.0/e6070c77f18f01a5ad4551a8b7edfba20b8438b7cad4d94e6ad9378022ce4aab\\cache-02447fd093a73f65.arrow\n"
     ]
    }
   ],
   "source": [
    "tokenized_squad = dataset.map(preprocess_function, batched=True, remove_columns=dataset[\"train\"].column_names)"
   ]
  },
  {
   "cell_type": "code",
   "execution_count": 6,
   "id": "6b05212b",
   "metadata": {},
   "outputs": [],
   "source": [
    "from transformers import DefaultDataCollator\n",
    "\n",
    "data_collator = DefaultDataCollator(return_tensors=\"tf\")"
   ]
  },
  {
   "cell_type": "code",
   "execution_count": 7,
   "id": "6e73a1a9",
   "metadata": {},
   "outputs": [
    {
     "name": "stderr",
     "output_type": "stream",
     "text": [
      "Some layers from the model checkpoint at distilbert-base-uncased were not used when initializing TFDistilBertForQuestionAnswering: ['vocab_projector', 'activation_13', 'vocab_layer_norm', 'vocab_transform']\n",
      "- This IS expected if you are initializing TFDistilBertForQuestionAnswering from the checkpoint of a model trained on another task or with another architecture (e.g. initializing a BertForSequenceClassification model from a BertForPreTraining model).\n",
      "- This IS NOT expected if you are initializing TFDistilBertForQuestionAnswering from the checkpoint of a model that you expect to be exactly identical (initializing a BertForSequenceClassification model from a BertForSequenceClassification model).\n",
      "Some layers of TFDistilBertForQuestionAnswering were not initialized from the model checkpoint at distilbert-base-uncased and are newly initialized: ['dropout_19', 'qa_outputs']\n",
      "You should probably TRAIN this model on a down-stream task to be able to use it for predictions and inference.\n"
     ]
    }
   ],
   "source": [
    "from transformers import TFAutoModelForQuestionAnswering\n",
    "\n",
    "model = TFAutoModelForQuestionAnswering.from_pretrained(\"distilbert-base-uncased\")"
   ]
  },
  {
   "cell_type": "code",
   "execution_count": 8,
   "id": "ad36c55c",
   "metadata": {},
   "outputs": [],
   "source": [
    "tf_train_set = model.prepare_tf_dataset(\n",
    "    tokenized_squad[\"train\"],\n",
    "    shuffle=True,\n",
    "    batch_size=16,\n",
    "    collate_fn=data_collator,\n",
    ")"
   ]
  },
  {
   "cell_type": "code",
   "execution_count": 1,
   "id": "8f5ea886",
   "metadata": {},
   "outputs": [
    {
     "ename": "NameError",
     "evalue": "name 'model' is not defined",
     "output_type": "error",
     "traceback": [
      "\u001b[1;31m---------------------------------------------------------------------------\u001b[0m",
      "\u001b[1;31mNameError\u001b[0m                                 Traceback (most recent call last)",
      "Cell \u001b[1;32mIn [1], line 1\u001b[0m\n\u001b[1;32m----> 1\u001b[0m tf_validation_set \u001b[38;5;241m=\u001b[39m \u001b[43mmodel\u001b[49m\u001b[38;5;241m.\u001b[39mprepare_tf_dataset(\n\u001b[0;32m      2\u001b[0m     tokenized_squad[\u001b[38;5;124m\"\u001b[39m\u001b[38;5;124mvalidation\u001b[39m\u001b[38;5;124m\"\u001b[39m],\n\u001b[0;32m      3\u001b[0m     shuffle\u001b[38;5;241m=\u001b[39m\u001b[38;5;28;01mFalse\u001b[39;00m,\n\u001b[0;32m      4\u001b[0m     batch_size\u001b[38;5;241m=\u001b[39m\u001b[38;5;241m16\u001b[39m,\n\u001b[0;32m      5\u001b[0m     collate_fn\u001b[38;5;241m=\u001b[39mdata_collator,\n\u001b[0;32m      6\u001b[0m )\n",
      "\u001b[1;31mNameError\u001b[0m: name 'model' is not defined"
     ]
    }
   ],
   "source": [
    "tf_validation_set = model.prepare_tf_dataset(\n",
    "    tokenized_squad[\"validation\"],\n",
    "    shuffle=False,\n",
    "    batch_size=16,\n",
    "    collate_fn=data_collator,\n",
    ")"
   ]
  },
  {
   "cell_type": "code",
   "execution_count": 12,
   "id": "7c34a659",
   "metadata": {},
   "outputs": [],
   "source": [
    "from tensorflow.keras.losses import SparseCategoricalCrossentropy\n",
    "\n",
    "from tensorflow.keras.optimizers.schedules import PolynomialDecay\n",
    "\n",
    "batch_size = 16\n",
    "num_epochs = 3\n",
    "# The number of training steps is the number of samples in the dataset, divided by the batch size then multiplied\n",
    "# by the total number of epochs. Note that the tf_train_dataset here is a batched tf.data.Dataset,\n",
    "# not the original Hugging Face Dataset, so its len() is already num_samples // batch_size.\n",
    "num_train_steps = len(tf_train_set) * num_epochs\n",
    "lr_scheduler = PolynomialDecay(\n",
    "    initial_learning_rate=5e-5, end_learning_rate=0.0, decay_steps=num_train_steps\n",
    ")\n",
    "from tensorflow.keras.optimizers import Adam\n",
    "\n",
    "opt = Adam(learning_rate=lr_scheduler)"
   ]
  },
  {
   "cell_type": "code",
   "execution_count": 13,
   "id": "9cd8a893",
   "metadata": {},
   "outputs": [],
   "source": [
    "import tensorflow as tf\n",
    "\n",
    "loss = tf.keras.losses.SparseCategoricalCrossentropy(from_logits=True)\n",
    "model.compile(optimizer=opt, loss=loss, metrics=[\"accuracy\"])"
   ]
  },
  {
   "cell_type": "code",
   "execution_count": 14,
   "id": "84d97339",
   "metadata": {},
   "outputs": [
    {
     "name": "stdout",
     "output_type": "stream",
     "text": [
      "Epoch 1/3\n",
      "787/787 [==============================] - 22391s 28s/step - loss: 4.0266 - end_logits_loss: 1.9827 - start_logits_loss: 2.0439 - end_logits_accuracy: 0.4912 - start_logits_accuracy: 0.4697 - val_loss: 3.0484 - val_end_logits_loss: 1.4668 - val_start_logits_loss: 1.5816 - val_end_logits_accuracy: 0.6055 - val_start_logits_accuracy: 0.5682\n",
      "Epoch 2/3\n",
      "787/787 [==============================] - 22095s 28s/step - loss: 1.9746 - end_logits_loss: 0.9792 - start_logits_loss: 0.9954 - end_logits_accuracy: 0.7141 - start_logits_accuracy: 0.7000 - val_loss: 3.0012 - val_end_logits_loss: 1.4173 - val_start_logits_loss: 1.5839 - val_end_logits_accuracy: 0.6292 - val_start_logits_accuracy: 0.5800\n",
      "Epoch 3/3\n",
      "787/787 [==============================] - 22121s 28s/step - loss: 1.1539 - end_logits_loss: 0.5758 - start_logits_loss: 0.5781 - end_logits_accuracy: 0.8203 - start_logits_accuracy: 0.8124 - val_loss: 3.3549 - val_end_logits_loss: 1.5727 - val_start_logits_loss: 1.7822 - val_end_logits_accuracy: 0.6280 - val_start_logits_accuracy: 0.5834\n"
     ]
    },
    {
     "data": {
      "text/plain": [
       "<keras.callbacks.History at 0x2dbcea572e0>"
      ]
     },
     "execution_count": 14,
     "metadata": {},
     "output_type": "execute_result"
    }
   ],
   "source": [
    "model.fit(tf_train_set, validation_data=tf_validation_set, epochs=3)"
   ]
  },
  {
   "cell_type": "code",
   "execution_count": 15,
   "id": "8f61e794",
   "metadata": {},
   "outputs": [
    {
     "data": {
      "text/plain": [
       "('C:\\\\Users\\\\jimmc\\\\Documents\\\\UCSD_Bootcamp\\\\Hugging_Face\\\\V2\\\\tokenizer_config.json',\n",
       " 'C:\\\\Users\\\\jimmc\\\\Documents\\\\UCSD_Bootcamp\\\\Hugging_Face\\\\V2\\\\special_tokens_map.json',\n",
       " 'C:\\\\Users\\\\jimmc\\\\Documents\\\\UCSD_Bootcamp\\\\Hugging_Face\\\\V2\\\\vocab.txt',\n",
       " 'C:\\\\Users\\\\jimmc\\\\Documents\\\\UCSD_Bootcamp\\\\Hugging_Face\\\\V2\\\\added_tokens.json',\n",
       " 'C:\\\\Users\\\\jimmc\\\\Documents\\\\UCSD_Bootcamp\\\\Hugging_Face\\\\V2\\\\tokenizer.json')"
      ]
     },
     "execution_count": 15,
     "metadata": {},
     "output_type": "execute_result"
    }
   ],
   "source": [
    "model.save_pretrained(r\"C:\\Users\\jimmc\\Documents\\UCSD_Bootcamp\\Hugging_Face\\V2\")\n",
    "tokenizer.save_pretrained(r\"C:\\Users\\jimmc\\Documents\\UCSD_Bootcamp\\Hugging_Face\\V2\")"
   ]
  },
  {
   "cell_type": "code",
   "execution_count": 16,
   "id": "98990a12",
   "metadata": {},
   "outputs": [],
   "source": [
    "from transformers import pipeline\n",
    "question_answerer = pipeline(task=\"question-answering\", model=model, tokenizer=tokenizer)"
   ]
  },
  {
   "cell_type": "code",
   "execution_count": 17,
   "id": "9f1b7a19",
   "metadata": {},
   "outputs": [],
   "source": [
    "exact_answers = []\n",
    "contains_answer = []\n",
    "wrong = []\n",
    "scores = []\n",
    "for text_row in dataset['test']:\n",
    "    result = question_answerer(question = text_row['question'], context = text_row['context'])\n",
    "    correct_start = text_row['answers'][0]['answer_start'] \n",
    "    correct_end = text_row['answers'][0]['answer_start'] + len(text_row['answers'][0]['text'])\n",
    "    scores.append(result['score'])\n",
    "   \n",
    "    if (correct_start == result['start']) and (correct_end == result['end']):\n",
    "        exact_answers.append(1)\n",
    "        contains_answer.append(1)\n",
    "        wrong.append(0)\n",
    "   \n",
    "    \n",
    "    elif (correct_start != result['start']) or (correct_end != result['end']):\n",
    "        \n",
    "        if (correct_start >= result['start']) and (correct_end <= result['end']):\n",
    "            exact_answers.append(0)\n",
    "            contains_answer.append(1)\n",
    "            wrong.append(0)\n",
    "        else:\n",
    "            exact_answers.append(0)\n",
    "            contains_answer.append(0)\n",
    "            wrong.append(1)\n",
    "    else:\n",
    "        pass"
   ]
  },
  {
   "cell_type": "code",
   "execution_count": 18,
   "id": "39435f99",
   "metadata": {},
   "outputs": [
    {
     "data": {
      "text/plain": [
       "0.5004612546125461"
      ]
     },
     "execution_count": 18,
     "metadata": {},
     "output_type": "execute_result"
    }
   ],
   "source": [
    "Accuracy = sum(exact_answers)/len(dataset['test'])\n",
    "Accuracy"
   ]
  },
  {
   "cell_type": "code",
   "execution_count": 19,
   "id": "1154ac1b",
   "metadata": {},
   "outputs": [
    {
     "data": {
      "text/plain": [
       "0.6164667896678967"
      ]
     },
     "execution_count": 19,
     "metadata": {},
     "output_type": "execute_result"
    }
   ],
   "source": [
    "sum(contains_answer)/len(dataset['test'])"
   ]
  },
  {
   "cell_type": "code",
   "execution_count": 20,
   "id": "2cbfd233",
   "metadata": {},
   "outputs": [],
   "source": [
    "import numpy as np"
   ]
  },
  {
   "cell_type": "code",
   "execution_count": 21,
   "id": "4afe7478",
   "metadata": {},
   "outputs": [],
   "source": [
    "np_scores = np.array(scores)\n",
    "np_exact = np.array(exact_answers)\n",
    "np_contains = np.array(contains_answer)\n",
    "np_wrong = np.array(wrong)"
   ]
  },
  {
   "cell_type": "code",
   "execution_count": 22,
   "id": "9722d393",
   "metadata": {},
   "outputs": [
    {
     "data": {
      "text/plain": [
       "0.661923076923077"
      ]
     },
     "execution_count": 22,
     "metadata": {},
     "output_type": "execute_result"
    }
   ],
   "source": [
    "#np.sum(np_exact[np_scores >= .5])\n",
    "#len(np_exact[np_scores >= .5])\n",
    "TPE = np.sum(np_exact[np_scores >= .5])\n",
    "TPE\n",
    "FPE = len(np_exact[np_scores >= .5]) - TPE\n",
    "FPE\n",
    "Exact_Percison = TPE/(TPE+FPE)\n",
    "Exact_Percison"
   ]
  },
  {
   "cell_type": "code",
   "execution_count": 23,
   "id": "84220b09",
   "metadata": {},
   "outputs": [
    {
     "data": {
      "text/plain": [
       "0.7461538461538462"
      ]
     },
     "execution_count": 23,
     "metadata": {},
     "output_type": "execute_result"
    }
   ],
   "source": [
    "TPC = np.sum(np_contains[np_scores >= .5])\n",
    "TPC\n",
    "FPC = len(np_contains[np_scores >= .5]) - TPC\n",
    "FPC\n",
    "Containing_Percison = TPC/(TPC+FPC)\n",
    "Containing_Percison"
   ]
  },
  {
   "cell_type": "code",
   "execution_count": 24,
   "id": "37c3e7c5",
   "metadata": {},
   "outputs": [
    {
     "data": {
      "text/plain": [
       "0.7930875576036867"
      ]
     },
     "execution_count": 24,
     "metadata": {},
     "output_type": "execute_result"
    }
   ],
   "source": [
    "FNE = np.sum(np_exact[np_scores < .5])\n",
    "FNE\n",
    "TNE = len(np_exact[np_scores < .5]) - FNE\n",
    "TNE\n",
    "Exact_Recall = TPE/(TPE + FNE)\n",
    "Exact_Recall"
   ]
  },
  {
   "cell_type": "code",
   "execution_count": 25,
   "id": "29a8fabe",
   "metadata": {},
   "outputs": [
    {
     "data": {
      "text/plain": [
       "0.8120552532440352"
      ]
     },
     "execution_count": 25,
     "metadata": {},
     "output_type": "execute_result"
    }
   ],
   "source": [
    "FNC = np.sum(np_exact[np_scores < .5])\n",
    "FNC\n",
    "TNC = len(np_exact[np_scores < .5]) - FNC\n",
    "TNC\n",
    "Containing_Recall = TPC/(TPC + FNC)\n",
    "Containing_Recall"
   ]
  },
  {
   "cell_type": "code",
   "execution_count": null,
   "id": "63195e9d",
   "metadata": {},
   "outputs": [],
   "source": []
  }
 ],
 "metadata": {
  "kernelspec": {
   "display_name": "Python 3 (ipykernel)",
   "language": "python",
   "name": "python3"
  },
  "language_info": {
   "codemirror_mode": {
    "name": "ipython",
    "version": 3
   },
   "file_extension": ".py",
   "mimetype": "text/x-python",
   "name": "python",
   "nbconvert_exporter": "python",
   "pygments_lexer": "ipython3",
   "version": "3.8.9"
  }
 },
 "nbformat": 4,
 "nbformat_minor": 5
}
