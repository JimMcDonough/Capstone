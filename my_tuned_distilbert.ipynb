{
 "cells": [
  {
   "cell_type": "code",
   "execution_count": 1,
   "id": "35ab9fff",
   "metadata": {},
   "outputs": [],
   "source": [
    "from datasets import load_dataset, Value, Sequence, Features\n",
    "\n",
    "data_files={\"train\": r\"C:\\Users\\jimmc\\Documents\\UCSD_Bootcamp\\Hugging_Face\\sample_data\\train.json\",\n",
    "           \"validation\": r\"C:\\Users\\jimmc\\Documents\\UCSD_Bootcamp\\Hugging_Face\\sample_data\\val.json\",\n",
    "           \"test\": r\"C:\\Users\\jimmc\\Documents\\UCSD_Bootcamp\\Hugging_Face\\sample_data\\test.json\"}\n",
    "        \n",
    "#data_files={\"train\": r\"C:\\Users\\jimmc\\Documents\\UCSD_Bootcamp\\Hugging_Face\\sample_data\\train.json\"}\n",
    "\n",
    "\n",
    "#dataset = load_dataset(\"json\", data_files=data_files)"
   ]
  },
  {
   "cell_type": "code",
   "execution_count": 2,
   "id": "527d5a2d",
   "metadata": {},
   "outputs": [],
   "source": [
    "features = Features({'answers': Sequence(feature={'text': Value(dtype='string'), 'answer_start': Value(dtype='int32')}),\n",
    "'context': Value(dtype='string'),\n",
    "'id': Value(dtype='string'),\n",
    "'question': Value(dtype='string'),\n",
    "'title': Value(dtype='string')})"
   ]
  },
  {
   "cell_type": "code",
   "execution_count": 12,
   "id": "73f1611d",
   "metadata": {
    "scrolled": true
   },
   "outputs": [
    {
     "name": "stderr",
     "output_type": "stream",
     "text": [
      "Using custom data configuration default-0eba7e56df251bfe\n",
      "Found cached dataset json (C:/Users/jimmc/.cache/huggingface/datasets/json/default-0eba7e56df251bfe/0.0.0/e6070c77f18f01a5ad4551a8b7edfba20b8438b7cad4d94e6ad9378022ce4aab)\n"
     ]
    },
    {
     "data": {
      "application/vnd.jupyter.widget-view+json": {
       "model_id": "38eb6afa62874396bb810b8ce716fc87",
       "version_major": 2,
       "version_minor": 0
      },
      "text/plain": [
       "  0%|          | 0/3 [00:00<?, ?it/s]"
      ]
     },
     "metadata": {},
     "output_type": "display_data"
    }
   ],
   "source": [
    "dataset = load_dataset(\"json\", data_files=data_files)"
   ]
  },
  {
   "cell_type": "code",
   "execution_count": 4,
   "id": "8fb73be1",
   "metadata": {},
   "outputs": [],
   "source": [
    "answers = dataset['train']['answers'][0]"
   ]
  },
  {
   "cell_type": "code",
   "execution_count": 5,
   "id": "96da4f70",
   "metadata": {},
   "outputs": [
    {
     "data": {
      "text/plain": [
       "[{'answer_start': 253, 'text': 'The Unicode Standard'}]"
      ]
     },
     "execution_count": 5,
     "metadata": {},
     "output_type": "execute_result"
    }
   ],
   "source": [
    "answers"
   ]
  },
  {
   "cell_type": "code",
   "execution_count": 6,
   "id": "682f0e27",
   "metadata": {},
   "outputs": [],
   "source": [
    "from transformers import AutoTokenizer\n",
    "\n",
    "tokenizer = AutoTokenizer.from_pretrained(\"distilbert-base-uncased\")"
   ]
  },
  {
   "cell_type": "code",
   "execution_count": 7,
   "id": "255727e2",
   "metadata": {},
   "outputs": [],
   "source": [
    "def preprocess_function(examples):\n",
    "    questions = [q.strip() for q in examples[\"question\"]]\n",
    "    inputs = tokenizer(\n",
    "        questions,\n",
    "        examples[\"context\"],\n",
    "        max_length=384,\n",
    "        truncation=\"only_second\",     #only truncates the context nothing else\n",
    "        return_offsets_mapping=True,  # map the start and end positions of the answer to the original context \n",
    "        padding=\"max_length\",\n",
    "    )\n",
    "    \n",
    "    offset_mapping = inputs.pop(\"offset_mapping\")\n",
    "    #print(offset_mapping)\n",
    "    answers = examples[\"answers\"]\n",
    "    start_positions = []\n",
    "    end_positions = []\n",
    "    #print(answers)\n",
    "    for i, offset in enumerate(offset_mapping):\n",
    "        answer = answers[i]\n",
    "        #start_char = answer[\"answer_start\"][0]\n",
    "        #end_char = answer[\"answer_start\"][0] + len(answer[\"text\"][0])  #start char + length giver chars with answer\n",
    "        start_char = answer[0][\"answer_start\"]\n",
    "        end_char = answer[0][\"answer_start\"] + len(answer[0][\"text\"])  \n",
    "        sequence_ids = inputs.sequence_ids(i)  #no clue what this does\n",
    "        #print(answer, end_char, sequence_ids)\n",
    "        # Find the start and end of the context        ; not sure how this section works\n",
    "        idx = 0\n",
    "        while sequence_ids[idx] != 1:\n",
    "            idx += 1\n",
    "        context_start = idx\n",
    "        while sequence_ids[idx] == 1:\n",
    "            idx += 1\n",
    "        context_end = idx - 1\n",
    "    \n",
    "        # If the answer is not fully inside the context, label it (0, 0)\n",
    "        if offset[context_start][0] > end_char or offset[context_end][1] < start_char:\n",
    "            start_positions.append(0)\n",
    "            end_positions.append(0)\n",
    "        else:\n",
    "            # Otherwise it's the start and end token positions\n",
    "            idx = context_start\n",
    "            while idx <= context_end and offset[idx][0] <= start_char:\n",
    "                idx += 1\n",
    "            start_positions.append(idx - 1)\n",
    "            \n",
    "            idx = context_end\n",
    "            while idx >= context_start and offset[idx][1] >= end_char:\n",
    "                idx -= 1\n",
    "            end_positions.append(idx + 1)\n",
    "            \n",
    "    inputs[\"start_positions\"] = start_positions\n",
    "    inputs[\"end_positions\"] = end_positions\n",
    "    return inputs"
   ]
  },
  {
   "cell_type": "code",
   "execution_count": 32,
   "id": "3462a12a",
   "metadata": {},
   "outputs": [
    {
     "data": {
      "application/vnd.jupyter.widget-view+json": {
       "model_id": "6693465f096542f68968de462055c9cb",
       "version_major": 2,
       "version_minor": 0
      },
      "text/plain": [
       "  0%|          | 0/13 [00:00<?, ?ba/s]"
      ]
     },
     "metadata": {},
     "output_type": "display_data"
    },
    {
     "data": {
      "application/vnd.jupyter.widget-view+json": {
       "model_id": "993912e8fc16440a99b5d5cc3da316a8",
       "version_major": 2,
       "version_minor": 0
      },
      "text/plain": [
       "  0%|          | 0/6 [00:00<?, ?ba/s]"
      ]
     },
     "metadata": {},
     "output_type": "display_data"
    },
    {
     "data": {
      "application/vnd.jupyter.widget-view+json": {
       "model_id": "b3e8da53358e45ca8c9be935404ef402",
       "version_major": 2,
       "version_minor": 0
      },
      "text/plain": [
       "  0%|          | 0/5 [00:00<?, ?ba/s]"
      ]
     },
     "metadata": {},
     "output_type": "display_data"
    }
   ],
   "source": [
    "tokenized_squad = dataset.map(preprocess_function, batched=True, remove_columns=dataset[\"train\"].column_names)"
   ]
  },
  {
   "cell_type": "code",
   "execution_count": 33,
   "id": "6ea7d929",
   "metadata": {},
   "outputs": [],
   "source": [
    "from transformers import DefaultDataCollator\n",
    "\n",
    "data_collator = DefaultDataCollator(return_tensors=\"tf\")"
   ]
  },
  {
   "cell_type": "code",
   "execution_count": 34,
   "id": "548139f2",
   "metadata": {},
   "outputs": [
    {
     "name": "stderr",
     "output_type": "stream",
     "text": [
      "Some layers from the model checkpoint at distilbert-base-uncased were not used when initializing TFDistilBertForQuestionAnswering: ['vocab_projector', 'vocab_transform', 'vocab_layer_norm', 'activation_13']\n",
      "- This IS expected if you are initializing TFDistilBertForQuestionAnswering from the checkpoint of a model trained on another task or with another architecture (e.g. initializing a BertForSequenceClassification model from a BertForPreTraining model).\n",
      "- This IS NOT expected if you are initializing TFDistilBertForQuestionAnswering from the checkpoint of a model that you expect to be exactly identical (initializing a BertForSequenceClassification model from a BertForSequenceClassification model).\n",
      "Some layers of TFDistilBertForQuestionAnswering were not initialized from the model checkpoint at distilbert-base-uncased and are newly initialized: ['dropout_19', 'qa_outputs']\n",
      "You should probably TRAIN this model on a down-stream task to be able to use it for predictions and inference.\n"
     ]
    }
   ],
   "source": [
    "from transformers import TFAutoModelForQuestionAnswering\n",
    "\n",
    "model = TFAutoModelForQuestionAnswering.from_pretrained(\"distilbert-base-uncased\")"
   ]
  },
  {
   "cell_type": "code",
   "execution_count": 36,
   "id": "44635b09",
   "metadata": {},
   "outputs": [],
   "source": [
    "from transformers import create_optimizer\n",
    "\n",
    "batch_size = 16\n",
    "num_epochs = 2\n",
    "total_train_steps = (len(tokenized_squad[\"train\"]) // batch_size) * num_epochs\n",
    "optimizer, schedule = create_optimizer(\n",
    "    init_lr=2e-5,\n",
    "    num_warmup_steps=0,\n",
    "    num_train_steps=total_train_steps,\n",
    ")"
   ]
  },
  {
   "cell_type": "code",
   "execution_count": 37,
   "id": "ac273c69",
   "metadata": {},
   "outputs": [
    {
     "name": "stderr",
     "output_type": "stream",
     "text": [
      "No loss specified in compile() - the model's internal loss computation will be used as the loss. Don't panic - this is a common way to train TensorFlow models in Transformers! To disable this behaviour please pass a loss argument, or explicitly pass `loss=None` if you do not want your model to compute a loss.\n"
     ]
    }
   ],
   "source": [
    "import tensorflow as tf\n",
    "\n",
    "model.compile(optimizer=optimizer)"
   ]
  },
  {
   "cell_type": "code",
   "execution_count": 38,
   "id": "e0985b33",
   "metadata": {},
   "outputs": [],
   "source": [
    "tf_train_set = model.prepare_tf_dataset(\n",
    "    tokenized_squad[\"train\"],\n",
    "    shuffle=True,\n",
    "    batch_size=16,\n",
    "    collate_fn=data_collator,\n",
    ")"
   ]
  },
  {
   "cell_type": "code",
   "execution_count": 39,
   "id": "a86b4faa",
   "metadata": {},
   "outputs": [],
   "source": [
    "tf_validation_set = model.prepare_tf_dataset(\n",
    "    tokenized_squad[\"validation\"],\n",
    "    shuffle=False,\n",
    "    batch_size=16,\n",
    "    collate_fn=data_collator,\n",
    ")"
   ]
  },
  {
   "cell_type": "code",
   "execution_count": 40,
   "id": "293f8076",
   "metadata": {},
   "outputs": [
    {
     "name": "stdout",
     "output_type": "stream",
     "text": [
      "Epoch 1/3\n",
      "787/787 [==============================] - 19962s 25s/step - loss: 2.4348 - val_loss: 1.6549\n",
      "Epoch 2/3\n",
      "787/787 [==============================] - 19591s 25s/step - loss: 1.3575 - val_loss: 1.5875\n",
      "Epoch 3/3\n",
      "787/787 [==============================] - 19638s 25s/step - loss: 1.1994 - val_loss: 1.5875\n"
     ]
    },
    {
     "data": {
      "text/plain": [
       "<keras.callbacks.History at 0x21863520a90>"
      ]
     },
     "execution_count": 40,
     "metadata": {},
     "output_type": "execute_result"
    }
   ],
   "source": [
    "model.fit(x=tf_train_set, validation_data=tf_validation_set, epochs=3)"
   ]
  },
  {
   "cell_type": "code",
   "execution_count": 121,
   "id": "cd6f715a",
   "metadata": {},
   "outputs": [
    {
     "name": "stdout",
     "output_type": "stream",
     "text": [
      "Model: \"tf_distil_bert_for_question_answering\"\n",
      "_________________________________________________________________\n",
      " Layer (type)                Output Shape              Param #   \n",
      "=================================================================\n",
      " distilbert (TFDistilBertMai  multiple                 66362880  \n",
      " nLayer)                                                         \n",
      "                                                                 \n",
      " qa_outputs (Dense)          multiple                  1538      \n",
      "                                                                 \n",
      " dropout_19 (Dropout)        multiple                  0         \n",
      "                                                                 \n",
      "=================================================================\n",
      "Total params: 66,364,418\n",
      "Trainable params: 66,364,418\n",
      "Non-trainable params: 0\n",
      "_________________________________________________________________\n"
     ]
    }
   ],
   "source": [
    "model.summary()"
   ]
  },
  {
   "cell_type": "code",
   "execution_count": 16,
   "id": "adada0d7",
   "metadata": {},
   "outputs": [],
   "source": [
    "#This does not work!!!!!!!!  See at the bottom for the correct way to save and reload models for use\n",
    "#model.save(r\"C:\\Users\\jimmc\\Documents\\UCSD_Bootcamp\\Hugging_Face\\hugging_face_testing\",save_format=\"tf\")"
   ]
  },
  {
   "cell_type": "code",
   "execution_count": 47,
   "id": "c5ef68f3",
   "metadata": {},
   "outputs": [],
   "source": [
    "from transformers import pipeline\n",
    "question_answerer = pipeline(task=\"question-answering\", model=model, tokenizer=tokenizer)"
   ]
  },
  {
   "cell_type": "code",
   "execution_count": 57,
   "id": "c0591b03",
   "metadata": {},
   "outputs": [
    {
     "data": {
      "text/plain": [
       "[{'answer_start': 15, 'text': 'ten'}]"
      ]
     },
     "execution_count": 57,
     "metadata": {},
     "output_type": "execute_result"
    }
   ],
   "source": [
    "dataset['test'][0]['answers']"
   ]
  },
  {
   "cell_type": "code",
   "execution_count": 50,
   "id": "c4f36564",
   "metadata": {},
   "outputs": [],
   "source": [
    "result = question_answerer(question=dataset['test'][0]['question'],context=dataset['test'][0]['context'])"
   ]
  },
  {
   "cell_type": "code",
   "execution_count": 51,
   "id": "19096497",
   "metadata": {},
   "outputs": [
    {
     "data": {
      "text/plain": [
       "{'score': 0.5929886102676392, 'start': 15, 'end': 18, 'answer': 'ten'}"
      ]
     },
     "execution_count": 51,
     "metadata": {},
     "output_type": "execute_result"
    }
   ],
   "source": [
    "result"
   ]
  },
  {
   "cell_type": "code",
   "execution_count": 78,
   "id": "4945a7a8",
   "metadata": {},
   "outputs": [],
   "source": [
    "exact_answers = []\n",
    "contains_answer = []\n",
    "wrong = []\n",
    "scores = []\n",
    "for text_row in dataset['test']:\n",
    "    result = question_answerer(question = text_row['question'], context = text_row['context'])\n",
    "    correct_start = text_row['answers'][0]['answer_start'] \n",
    "    correct_end = text_row['answers'][0]['answer_start'] + len(text_row['answers'][0]['text'])\n",
    "    scores.append(result['score'])\n",
    "   \n",
    "    if (correct_start == result['start']) and (correct_end == result['end']):\n",
    "        exact_answers.append(1)\n",
    "        contains_answer.append(1)\n",
    "        wrong.append(0)\n",
    "   \n",
    "    \n",
    "    elif (correct_start != result['start']) or (correct_end != result['end']):\n",
    "        \n",
    "        if (correct_start >= result['start']) and (correct_end <= result['end']):\n",
    "            exact_answers.append(0)\n",
    "            contains_answer.append(1)\n",
    "            wrong.append(0)\n",
    "        else:\n",
    "            exact_answers.append(0)\n",
    "            contains_answer.append(0)\n",
    "            wrong.append(1)\n",
    "    else:\n",
    "        pass"
   ]
  },
  {
   "cell_type": "code",
   "execution_count": 99,
   "id": "373a28d0",
   "metadata": {},
   "outputs": [
    {
     "data": {
      "text/plain": [
       "0.4568726937269373"
      ]
     },
     "execution_count": 99,
     "metadata": {},
     "output_type": "execute_result"
    }
   ],
   "source": [
    "Accuracy = sum(exact_answers)/len(dataset['test'])\n",
    "Accuracy"
   ]
  },
  {
   "cell_type": "code",
   "execution_count": 80,
   "id": "0cc58b1b",
   "metadata": {},
   "outputs": [
    {
     "data": {
      "text/plain": [
       "0.5761070110701108"
      ]
     },
     "execution_count": 80,
     "metadata": {},
     "output_type": "execute_result"
    }
   ],
   "source": [
    "sum(contains_answer)/len(dataset['test'])"
   ]
  },
  {
   "cell_type": "code",
   "execution_count": 86,
   "id": "40a808ce",
   "metadata": {},
   "outputs": [],
   "source": [
    "import numpy as np"
   ]
  },
  {
   "cell_type": "code",
   "execution_count": 89,
   "id": "a9184bb2",
   "metadata": {},
   "outputs": [],
   "source": [
    "np_scores = np.array(scores)\n",
    "np_exact = np.array(exact_answers)\n",
    "np_contains = np.array(contains_answer)\n",
    "np_wrong = np.array(wrong)"
   ]
  },
  {
   "cell_type": "code",
   "execution_count": 112,
   "id": "fdd506e0",
   "metadata": {},
   "outputs": [
    {
     "data": {
      "text/plain": [
       "0.7634560906515581"
      ]
     },
     "execution_count": 112,
     "metadata": {},
     "output_type": "execute_result"
    }
   ],
   "source": [
    "#np.sum(np_exact[np_scores >= .5])\n",
    "#len(np_exact[np_scores >= .5])\n",
    "TPE = np.sum(np_exact[np_scores >= .5])\n",
    "TPE\n",
    "FPE = len(np_exact[np_scores >= .5]) - TPE\n",
    "FPE\n",
    "Exact_Percison = TPE/(TPE+FPE)\n",
    "Exact_Percison"
   ]
  },
  {
   "cell_type": "code",
   "execution_count": 115,
   "id": "91b2fda2",
   "metadata": {},
   "outputs": [
    {
     "data": {
      "text/plain": [
       "0.8101983002832861"
      ]
     },
     "execution_count": 115,
     "metadata": {},
     "output_type": "execute_result"
    }
   ],
   "source": [
    "TPC = np.sum(np_contains[np_scores >= .5])\n",
    "TPC\n",
    "FPC = len(np_contains[np_scores >= .5]) - TPC\n",
    "FPC\n",
    "Containing_Percison = TPC/(TPC+FPC)\n",
    "Containing_Percison"
   ]
  },
  {
   "cell_type": "code",
   "execution_count": 113,
   "id": "16c129a9",
   "metadata": {},
   "outputs": [
    {
     "data": {
      "text/plain": [
       "0.5441696113074205"
      ]
     },
     "execution_count": 113,
     "metadata": {},
     "output_type": "execute_result"
    }
   ],
   "source": [
    "FNE = np.sum(np_exact[np_scores < .5])\n",
    "FNE\n",
    "TNE = len(np_exact[np_scores < .5]) - FNE\n",
    "TNE\n",
    "Exact_Recall = TPE/(TPE + FNE)\n",
    "Exact_Recall"
   ]
  },
  {
   "cell_type": "code",
   "execution_count": 116,
   "id": "29cf9483",
   "metadata": {},
   "outputs": [
    {
     "data": {
      "text/plain": [
       "0.558866634098681"
      ]
     },
     "execution_count": 116,
     "metadata": {},
     "output_type": "execute_result"
    }
   ],
   "source": [
    "FNC = np.sum(np_exact[np_scores < .5])\n",
    "FNC\n",
    "TNC = len(np_exact[np_scores < .5]) - FNC\n",
    "TNC\n",
    "Containing_Recall = TPC/(TPC + FNC)\n",
    "Containing_Recall"
   ]
  },
  {
   "cell_type": "code",
   "execution_count": 127,
   "id": "4a8e68e8",
   "metadata": {},
   "outputs": [
    {
     "data": {
      "text/plain": [
       "('C:\\\\Users\\\\jimmc\\\\Documents\\\\UCSD_Bootcamp\\\\Hugging_Face\\\\tokenizer_config.json',\n",
       " 'C:\\\\Users\\\\jimmc\\\\Documents\\\\UCSD_Bootcamp\\\\Hugging_Face\\\\special_tokens_map.json',\n",
       " 'C:\\\\Users\\\\jimmc\\\\Documents\\\\UCSD_Bootcamp\\\\Hugging_Face\\\\vocab.txt',\n",
       " 'C:\\\\Users\\\\jimmc\\\\Documents\\\\UCSD_Bootcamp\\\\Hugging_Face\\\\added_tokens.json',\n",
       " 'C:\\\\Users\\\\jimmc\\\\Documents\\\\UCSD_Bootcamp\\\\Hugging_Face\\\\tokenizer.json')"
      ]
     },
     "execution_count": 127,
     "metadata": {},
     "output_type": "execute_result"
    }
   ],
   "source": [
    "#https://huggingface.co/docs/transformers/v4.23.1/en/serialization\n",
    "model.save_pretrained(r\"C:\\Users\\jimmc\\Documents\\UCSD_Bootcamp\\Hugging_Face\")\n",
    "tokenizer.save_pretrained(r\"C:\\Users\\jimmc\\Documents\\UCSD_Bootcamp\\Hugging_Face\")\n",
    "\n",
    "# Type this below in the command line\n",
    "# python -m transformers.onnx --model=C:\\Users\\jimmc\\Documents\\UCSD_Bootcamp\\Hugging_Face onnx/"
   ]
  },
  {
   "cell_type": "code",
   "execution_count": null,
   "id": "9aadd35a",
   "metadata": {},
   "outputs": [],
   "source": []
  },
  {
   "cell_type": "code",
   "execution_count": null,
   "id": "ddf5bdfa",
   "metadata": {},
   "outputs": [],
   "source": []
  },
  {
   "cell_type": "code",
   "execution_count": null,
   "id": "99c1d3dc",
   "metadata": {},
   "outputs": [],
   "source": []
  },
  {
   "cell_type": "code",
   "execution_count": null,
   "id": "c649278a",
   "metadata": {},
   "outputs": [],
   "source": []
  },
  {
   "cell_type": "code",
   "execution_count": null,
   "id": "1d88be19",
   "metadata": {},
   "outputs": [],
   "source": []
  },
  {
   "cell_type": "code",
   "execution_count": 15,
   "id": "a53817f5",
   "metadata": {},
   "outputs": [],
   "source": [
    "#You can Reload and use the model like below"
   ]
  },
  {
   "cell_type": "code",
   "execution_count": 9,
   "id": "a2b3f3a5",
   "metadata": {},
   "outputs": [
    {
     "name": "stderr",
     "output_type": "stream",
     "text": [
      "All model checkpoint layers were used when initializing TFDistilBertForQuestionAnswering.\n",
      "\n",
      "All the layers of TFDistilBertForQuestionAnswering were initialized from the model checkpoint at C:\\Users\\jimmc\\Documents\\UCSD_Bootcamp\\Hugging_Face.\n",
      "If your task is similar to the task the model of the checkpoint was trained on, you can already use TFDistilBertForQuestionAnswering for predictions without further training.\n"
     ]
    }
   ],
   "source": [
    "from transformers import TFAutoModelForQuestionAnswering\n",
    "\n",
    "model = TFAutoModelForQuestionAnswering.from_pretrained(r'C:\\Users\\jimmc\\Documents\\UCSD_Bootcamp\\Hugging_Face')"
   ]
  },
  {
   "cell_type": "code",
   "execution_count": 10,
   "id": "608e3eed",
   "metadata": {},
   "outputs": [],
   "source": [
    "from transformers import AutoTokenizer\n",
    "\n",
    "tokenizer = AutoTokenizer.from_pretrained(r'C:\\Users\\jimmc\\Documents\\UCSD_Bootcamp\\Hugging_Face')"
   ]
  },
  {
   "cell_type": "code",
   "execution_count": 11,
   "id": "c574aee6",
   "metadata": {},
   "outputs": [],
   "source": [
    "from transformers import pipeline\n",
    "question_answerer = pipeline(task=\"question-answering\", model=model, tokenizer=tokenizer)"
   ]
  },
  {
   "cell_type": "code",
   "execution_count": 13,
   "id": "14a66956",
   "metadata": {},
   "outputs": [],
   "source": [
    "result = question_answerer(question=dataset['test'][0]['question'],context=dataset['test'][0]['context'])"
   ]
  },
  {
   "cell_type": "code",
   "execution_count": 14,
   "id": "b306da04",
   "metadata": {},
   "outputs": [
    {
     "data": {
      "text/plain": [
       "{'score': 0.5929886102676392, 'start': 15, 'end': 18, 'answer': 'ten'}"
      ]
     },
     "execution_count": 14,
     "metadata": {},
     "output_type": "execute_result"
    }
   ],
   "source": [
    "result"
   ]
  },
  {
   "cell_type": "code",
   "execution_count": null,
   "id": "e289b23e",
   "metadata": {},
   "outputs": [],
   "source": []
  },
  {
   "cell_type": "code",
   "execution_count": null,
   "id": "9b3590d1",
   "metadata": {},
   "outputs": [],
   "source": []
  },
  {
   "cell_type": "code",
   "execution_count": null,
   "id": "655d008b",
   "metadata": {},
   "outputs": [],
   "source": []
  },
  {
   "cell_type": "code",
   "execution_count": null,
   "id": "0c13cd33",
   "metadata": {},
   "outputs": [],
   "source": []
  },
  {
   "cell_type": "code",
   "execution_count": null,
   "id": "f4cadd35",
   "metadata": {},
   "outputs": [],
   "source": []
  },
  {
   "cell_type": "code",
   "execution_count": null,
   "id": "d2ed2c71",
   "metadata": {},
   "outputs": [],
   "source": []
  },
  {
   "cell_type": "code",
   "execution_count": null,
   "id": "e96fcd70",
   "metadata": {},
   "outputs": [],
   "source": []
  },
  {
   "cell_type": "code",
   "execution_count": null,
   "id": "3974062a",
   "metadata": {},
   "outputs": [],
   "source": []
  }
 ],
 "metadata": {
  "kernelspec": {
   "display_name": "Python 3 (ipykernel)",
   "language": "python",
   "name": "python3"
  },
  "language_info": {
   "codemirror_mode": {
    "name": "ipython",
    "version": 3
   },
   "file_extension": ".py",
   "mimetype": "text/x-python",
   "name": "python",
   "nbconvert_exporter": "python",
   "pygments_lexer": "ipython3",
   "version": "3.8.9"
  }
 },
 "nbformat": 4,
 "nbformat_minor": 5
}
